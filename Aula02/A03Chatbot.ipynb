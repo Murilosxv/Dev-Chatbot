{
 "cells": [
  {
   "cell_type": "code",
   "execution_count": 1,
   "metadata": {},
   "outputs": [
    {
     "name": "stdout",
     "output_type": "stream",
     "text": [
      "Requirement already satisfied: groq in c:\\users\\muril\\documents\\github\\dev-chatbot\\.venv\\lib\\site-packages (0.18.0)\n",
      "Requirement already satisfied: anyio<5,>=3.5.0 in c:\\users\\muril\\documents\\github\\dev-chatbot\\.venv\\lib\\site-packages (from groq) (4.8.0)\n",
      "Requirement already satisfied: distro<2,>=1.7.0 in c:\\users\\muril\\documents\\github\\dev-chatbot\\.venv\\lib\\site-packages (from groq) (1.9.0)\n",
      "Requirement already satisfied: httpx<1,>=0.23.0 in c:\\users\\muril\\documents\\github\\dev-chatbot\\.venv\\lib\\site-packages (from groq) (0.28.1)\n",
      "Requirement already satisfied: pydantic<3,>=1.9.0 in c:\\users\\muril\\documents\\github\\dev-chatbot\\.venv\\lib\\site-packages (from groq) (2.10.6)\n",
      "Requirement already satisfied: sniffio in c:\\users\\muril\\documents\\github\\dev-chatbot\\.venv\\lib\\site-packages (from groq) (1.3.1)\n",
      "Requirement already satisfied: typing-extensions<5,>=4.10 in c:\\users\\muril\\documents\\github\\dev-chatbot\\.venv\\lib\\site-packages (from groq) (4.12.2)\n",
      "Requirement already satisfied: idna>=2.8 in c:\\users\\muril\\documents\\github\\dev-chatbot\\.venv\\lib\\site-packages (from anyio<5,>=3.5.0->groq) (3.10)\n",
      "Requirement already satisfied: certifi in c:\\users\\muril\\documents\\github\\dev-chatbot\\.venv\\lib\\site-packages (from httpx<1,>=0.23.0->groq) (2025.1.31)\n",
      "Requirement already satisfied: httpcore==1.* in c:\\users\\muril\\documents\\github\\dev-chatbot\\.venv\\lib\\site-packages (from httpx<1,>=0.23.0->groq) (1.0.7)\n",
      "Requirement already satisfied: h11<0.15,>=0.13 in c:\\users\\muril\\documents\\github\\dev-chatbot\\.venv\\lib\\site-packages (from httpcore==1.*->httpx<1,>=0.23.0->groq) (0.14.0)\n",
      "Requirement already satisfied: annotated-types>=0.6.0 in c:\\users\\muril\\documents\\github\\dev-chatbot\\.venv\\lib\\site-packages (from pydantic<3,>=1.9.0->groq) (0.7.0)\n",
      "Requirement already satisfied: pydantic-core==2.27.2 in c:\\users\\muril\\documents\\github\\dev-chatbot\\.venv\\lib\\site-packages (from pydantic<3,>=1.9.0->groq) (2.27.2)\n"
     ]
    }
   ],
   "source": [
    "# instalaçao da biblioteca Groq\n",
    "!pip install groq"
   ]
  },
  {
   "cell_type": "code",
   "execution_count": 2,
   "metadata": {},
   "outputs": [],
   "source": [
    "from groq import Groq # realiza a importaçao da biblioteca necessaria para rodar a LLM\n",
    "#Inicializa o cliente com a chave da \n",
    "client = Groq(api_key='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')\n",
    "completion = client.chat.completions.create(\n",
    "  model=\"llama3-8b-8192\",\n",
    "  messages=[\n",
    "     {\"role\":\"system\",\"content\":\"Voce é assistente de agricultor\"},\n",
    "     {\"role\":\"user\",\"content\":\"Qual a semente indicada para \\n no solo arenoso em maio\"}\n",
    "\n",
    "  ],  \n",
    "  temperature=0,\n",
    "  max_tokens=1024, #ajusta o token,\n",
    "  top_p=1,\n",
    "  stream = False\n",
    "\n",
    ")"
   ]
  },
  {
   "cell_type": "code",
   "execution_count": 3,
   "metadata": {},
   "outputs": [
    {
     "name": "stdout",
     "output_type": "stream",
     "text": [
      "Um excelente questionário!\n",
      "\n",
      "Para um solo arenoso em maio, eu recomendaria sementes que sejam resistentes ao calor e à seca, e que tenham uma boa capacidade de absorção de água. Aqui estão algumas opções de sementes que devem funcionar bem:\n",
      "\n",
      "1. Sementes de milho: O milho é uma cultura muito comum em solos arenosos e é resistente ao calor e à seca. Ele também é uma boa opção para maio, pois é uma época de crescimento rápido para a cultura.\n",
      "2. Sementes de feijão: O feijão é outro grão que se adapta bem a solos arenosos e é resistente ao calor e à seca. Ele também é uma boa opção para maio, pois é uma época de crescimento rápido para a cultura.\n",
      "3. Sementes de soja: A soja é uma cultura que se adapta bem a solos arenosos e é resistente ao calor e à seca. Ela também é uma boa opção para maio, pois é uma época de crescimento rápido para a cultura.\n",
      "4. Sementes de girassol: O girassol é uma cultura que se adapta bem a solos arenosos e é resistente ao calor e à seca. Ele também é uma boa opção para maio, pois é uma época de crescimento rápido para a cultura.\n",
      "5. Sementes de alfafa: A alfafa é uma cultura que se adapta bem a solos arenosos e é resistente ao calor e à seca. Ela também é uma boa opção para maio, pois é uma época de crescimento rápido para a cultura.\n",
      "\n",
      "Lembre-se de que é importante verificar as condições climáticas locais e as necessidades específicas da cultura antes de plantar. Além disso, é sempre uma boa ideia consultar um especialista em agricultura ou um consultor agrícola para obter orientação mais específica para o seu local.\n"
     ]
    }
   ],
   "source": [
    "# exibe a resposta gerada\n",
    "\n",
    "print(completion.choices[0].message.content)"
   ]
  },
  {
   "cell_type": "code",
   "execution_count": 4,
   "metadata": {},
   "outputs": [],
   "source": [
    "import os # biblioteca do sistema operacional \n",
    "from groq import Groq"
   ]
  },
  {
   "cell_type": "code",
   "execution_count": 5,
   "metadata": {},
   "outputs": [],
   "source": [
    "GROQ_API_KEY = os.getenv('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')\n",
    "client = Groq(api_key='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')\n",
    "user_prompt=input(\"Digite sua pergunta sobre agricultura: \")\n",
    "\n",
    "#Faz a solicitação ao modelo\n",
    "completion = client.chat.completions.create(\n",
    "  model=\"llama3-8b-8192\",\n",
    "  messages=[\n",
    "     {\"role\":\"system\",\"content\":\"Voce é assistente de agricultor\"},\n",
    "     {\"role\":\"user\",\"content\":user_prompt}\n",
    "\n",
    "  ],  \n",
    "  temperature=0,\n",
    "  max_tokens=1024, #ajusta o token,\n",
    "  top_p=1,\n",
    "  stream = False\n",
    "\n",
    ")\n"
   ]
  },
  {
   "cell_type": "code",
   "execution_count": 6,
   "metadata": {},
   "outputs": [
    {
     "name": "stdout",
     "output_type": "stream",
     "text": [
      "\n",
      " Exibe a resposta\n",
      "Parabéns por querer cultivar bananas!\n",
      "\n",
      "Para cultivar bananas, é importante escolher um solo que seja bem drenado, rico em nutrientes e com pH ácido. Aqui estão algumas dicas para você escolher o melhor solo para plantar bananas:\n",
      "\n",
      "1. **pH**: O ideal é um pH entre 5,5 e 6,5. Se o pH for muito alto, os nutrientes podem ser deficientes e as plantas podem sofrer com a falta de nutrientes.\n",
      "2. **Textura**: O solo deve ser bem drenado e não muito argiloso. As bananas não gostam de solos muito úmidos, pois isso pode causar doenças e problemas de crescimento.\n",
      "3. **Nutrientes**: O solo deve ter nutrientes essenciais como nitrogênio, fósforo e potássio. Você pode adicionar fertilizantes orgânicos ou químicos para suprir essas necessidades.\n",
      "4. **Cobertura vegetal**: É importante manter a cobertura vegetal do solo, pois isso ajuda a prevenir a erosão e a manter a umidade do solo.\n",
      "\n",
      "Alguns solos que são adequados para plantar bananas incluem:\n",
      "\n",
      "* Solos de terra vermelha: Esses solos são comuns em regiões tropicais e subtropicais e são ricos em nutrientes.\n",
      "* Solos de terra amarela: Esses solos são mais comuns em regiões temperadas e são mais férteis do que os solos de terra vermelha.\n",
      "* Solos de areia: Esses solos são mais comuns em regiões costeiras e são mais leves e bem drenados.\n",
      "\n",
      "Lembre-se de que é importante testar o pH e a textura do solo antes de plantar bananas. Além disso, é importante manter o solo bem drenado e fertilizado para que as plantas cresçam saudáveis.\n",
      "\n",
      "Espero que essas dicas tenham ajudado! Se tiver mais alguma dúvida, sinta-se à vontade para perguntar.\n",
      "\n"
     ]
    }
   ],
   "source": [
    "# Exibe a resposta\n",
    "print('\\n Exibe a resposta')\n",
    "print(completion.choices[0].message.content + \"\\n\")\n"
   ]
  },
  {
   "cell_type": "code",
   "execution_count": null,
   "metadata": {},
   "outputs": [],
   "source": []
  }
 ],
 "metadata": {
  "kernelspec": {
   "display_name": ".venv",
   "language": "python",
   "name": "python3"
  },
  "language_info": {
   "codemirror_mode": {
    "name": "ipython",
    "version": 3
   },
   "file_extension": ".py",
   "mimetype": "text/x-python",
   "name": "python",
   "nbconvert_exporter": "python",
   "pygments_lexer": "ipython3",
   "version": "3.13.2"
  }
 },
 "nbformat": 4,
 "nbformat_minor": 2
}
