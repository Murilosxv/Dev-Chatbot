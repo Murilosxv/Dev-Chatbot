{
 "cells": [
  {
   "cell_type": "code",
   "execution_count": 7,
   "metadata": {},
   "outputs": [
    {
     "name": "stdout",
     "output_type": "stream",
     "text": [
      "Requirement already satisfied: groq in c:\\users\\muril\\documents\\github\\dev-chatbot\\.venv\\lib\\site-packages (0.18.0)\n",
      "Requirement already satisfied: anyio<5,>=3.5.0 in c:\\users\\muril\\documents\\github\\dev-chatbot\\.venv\\lib\\site-packages (from groq) (4.8.0)\n",
      "Requirement already satisfied: distro<2,>=1.7.0 in c:\\users\\muril\\documents\\github\\dev-chatbot\\.venv\\lib\\site-packages (from groq) (1.9.0)\n",
      "Requirement already satisfied: httpx<1,>=0.23.0 in c:\\users\\muril\\documents\\github\\dev-chatbot\\.venv\\lib\\site-packages (from groq) (0.28.1)\n",
      "Requirement already satisfied: pydantic<3,>=1.9.0 in c:\\users\\muril\\documents\\github\\dev-chatbot\\.venv\\lib\\site-packages (from groq) (2.10.6)\n",
      "Requirement already satisfied: sniffio in c:\\users\\muril\\documents\\github\\dev-chatbot\\.venv\\lib\\site-packages (from groq) (1.3.1)\n",
      "Requirement already satisfied: typing-extensions<5,>=4.10 in c:\\users\\muril\\documents\\github\\dev-chatbot\\.venv\\lib\\site-packages (from groq) (4.12.2)\n",
      "Requirement already satisfied: idna>=2.8 in c:\\users\\muril\\documents\\github\\dev-chatbot\\.venv\\lib\\site-packages (from anyio<5,>=3.5.0->groq) (3.10)\n",
      "Requirement already satisfied: certifi in c:\\users\\muril\\documents\\github\\dev-chatbot\\.venv\\lib\\site-packages (from httpx<1,>=0.23.0->groq) (2025.1.31)\n",
      "Requirement already satisfied: httpcore==1.* in c:\\users\\muril\\documents\\github\\dev-chatbot\\.venv\\lib\\site-packages (from httpx<1,>=0.23.0->groq) (1.0.7)\n",
      "Requirement already satisfied: h11<0.15,>=0.13 in c:\\users\\muril\\documents\\github\\dev-chatbot\\.venv\\lib\\site-packages (from httpcore==1.*->httpx<1,>=0.23.0->groq) (0.14.0)\n",
      "Requirement already satisfied: annotated-types>=0.6.0 in c:\\users\\muril\\documents\\github\\dev-chatbot\\.venv\\lib\\site-packages (from pydantic<3,>=1.9.0->groq) (0.7.0)\n",
      "Requirement already satisfied: pydantic-core==2.27.2 in c:\\users\\muril\\documents\\github\\dev-chatbot\\.venv\\lib\\site-packages (from pydantic<3,>=1.9.0->groq) (2.27.2)\n"
     ]
    }
   ],
   "source": [
    "# instalaçao da biblioteca Groq\n",
    "!pip install groq"
   ]
  },
  {
   "cell_type": "code",
   "execution_count": 8,
   "metadata": {},
   "outputs": [],
   "source": [
    "from groq import Groq # realiza a importaçao da biblioteca necessaria para rodar a LLM\n",
    "#Inicializa o cliente com a chave da \n",
    "client = Groq(api_key='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')\n",
    "completion = client.chat.completions.create(\n",
    "  model=\"llama3-8b-8192\",\n",
    "  messages=[\n",
    "     {\"role\":\"system\",\"content\":\"Voce é assistente de agricultor\"},\n",
    "     {\"role\":\"user\",\"content\":\"Qual a semente indicada para \\n no solo arenoso em maio\"}\n",
    "\n",
    "  ],  \n",
    "  temperature=0,\n",
    "  max_tokens=1024, #ajusta o token,\n",
    "  top_p=1,\n",
    "  stream = False\n",
    "\n",
    ")"
   ]
  },
  {
   "cell_type": "code",
   "execution_count": 9,
   "metadata": {},
   "outputs": [
    {
     "name": "stdout",
     "output_type": "stream",
     "text": [
      "Um excelente questionário!\n",
      "\n",
      "Para um solo arenoso em maio, eu recomendaria sementes que sejam resistentes à seca e ao calor, pois esses solos tendem a secar rapidamente e podem ser afetados por temperaturas elevadas.\n",
      "\n",
      "Aqui estão algumas opções de sementes que devem se adaptar bem a um solo arenoso em maio:\n",
      "\n",
      "1. Sementes de milho: O milho é uma cultura comum em solos arenosos e é resistente à seca. Ele também é uma boa opção para maio, pois o clima é geralmente mais quente e seco nessa época do ano.\n",
      "2. Sementes de feijão: O feijão é outro grão que se adapta bem a solos arenosos e é resistente à seca. Ele também é uma boa opção para maio, pois o clima é geralmente mais quente e seco nessa época do ano.\n",
      "3. Sementes de soja: A soja é uma cultura comum em solos arenosos e é resistente à seca. Ela também é uma boa opção para maio, pois o clima é geralmente mais quente e seco nessa época do ano.\n",
      "4. Sementes de alfafa: A alfafa é uma cultura que se adapta bem a solos arenosos e é resistente à seca. Ela também é uma boa opção para maio, pois o clima é geralmente mais quente e seco nessa época do ano.\n",
      "5. Sementes de trigo: O trigo é uma cultura comum em solos arenosos e é resistente à seca. Ele também é uma boa opção para maio, pois o clima é geralmente mais quente e seco nessa época do ano.\n",
      "\n",
      "Lembre-se de que é importante verificar as condições climáticas locais e as necessidades específicas da cultura que você deseja cultivar antes de plantar. Além disso, é sempre recomendável consultar um especialista em agricultura ou um consultor agrícola para obter orientação mais específica para o seu local.\n"
     ]
    }
   ],
   "source": [
    "# exibe a resposta gerada\n",
    "\n",
    "print(completion.choices[0].message.content)"
   ]
  },
  {
   "cell_type": "code",
   "execution_count": 10,
   "metadata": {},
   "outputs": [],
   "source": [
    "import os # biblioteca do sistema operacional \n",
    "from groq import Groq"
   ]
  },
  {
   "cell_type": "code",
   "execution_count": 11,
   "metadata": {},
   "outputs": [],
   "source": [
    "GROQ_API_KEY = os.getenv('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')\n",
    "client = Groq(api_key='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')\n",
    "user_prompt=input(\"Digite sua pergunta sobre agricultura: \")\n",
    "\n",
    "#Faz a solicitação ao modelo\n",
    "completion = client.chat.completions.create(\n",
    "  model=\"llama3-8b-8192\",\n",
    "  messages=[\n",
    "     {\"role\":\"system\",\"content\":\"Voce é assistente de agricultor\"},\n",
    "     {\"role\":\"user\",\"content\":user_prompt}\n",
    "\n",
    "  ],  \n",
    "  temperature=0,\n",
    "  max_tokens=1024, #ajusta o token,\n",
    "  top_p=1,\n",
    "  stream = False\n",
    "\n",
    ")\n"
   ]
  },
  {
   "cell_type": "code",
   "execution_count": 12,
   "metadata": {},
   "outputs": [
    {
     "name": "stdout",
     "output_type": "stream",
     "text": [
      "\n",
      " Exibe a resposta\n",
      "Excelente escolha! O alfafá é um cultivo muito saudável e rico em nutrientes. Aqui estão algumas dicas para você plantar alfafá com sucesso:\n",
      "\n",
      "**Preparação do solo**\n",
      "\n",
      "* O alfafá prefere solos bem drenados e ricos em nutrientes. Certifique-se de que o solo esteja livre de ervas daninhas e de resíduos orgânicos.\n",
      "* Adicione fertilizantes orgânicos, como compost ou esterco, ao solo para melhorar a fertilidade e a estrutura do solo.\n",
      "\n",
      "**Sementes**\n",
      "\n",
      "* O alfafá é uma planta anual, portanto, você precisará plantar sementes frescas e de boa qualidade.\n",
      "* As sementes devem ser plantadas a uma profundidade de 1-2 cm e espaçadas a cerca de 2-3 cm entre si.\n",
      "\n",
      "**Cultivo**\n",
      "\n",
      "* O alfafá é uma planta que cresce bem em clima temperado e em áreas com chuvas regulares. Certifique-se de que o clima seja adequado para o cultivo.\n",
      "* O alfafá é uma planta que requer umidade moderada, portanto, certifique-se de que o solo esteja bem drenado e não excessivamente úmido.\n",
      "\n",
      "**Manejo**\n",
      "\n",
      "* O alfafá é uma planta que requer pouco cuidado, mas é importante controlar a presença de ervas daninhas e doenças.\n",
      "* Certifique-se de que o solo esteja bem drenado e não excessivamente úmido para evitar doenças.\n",
      "\n",
      "**Colheita**\n",
      "\n",
      "* O alfafá é uma planta que pode ser colhida em cerca de 60-90 dias após a plantação.\n",
      "* Certifique-se de que as folhas estejam maduras e não danificadas para evitar perda de qualidade.\n",
      "\n",
      "Lembre-se de que o alfafá é uma planta que pode ser afetada por doenças e pragas, portanto, certifique-se de monitorar o cultivo regularmente e tomar medidas para controlar qualquer problema que surja.\n",
      "\n",
      "Boa sorte com o seu cultivo de alfafá!\n",
      "\n"
     ]
    }
   ],
   "source": [
    "# Exibe a resposta\n",
    "print('\\n Exibe a resposta')\n",
    "print(completion.choices[0].message.content + \"\\n\")\n"
   ]
  },
  {
   "cell_type": "code",
   "execution_count": null,
   "metadata": {},
   "outputs": [],
   "source": []
  }
 ],
 "metadata": {
  "kernelspec": {
   "display_name": ".venv",
   "language": "python",
   "name": "python3"
  },
  "language_info": {
   "codemirror_mode": {
    "name": "ipython",
    "version": 3
   },
   "file_extension": ".py",
   "mimetype": "text/x-python",
   "name": "python",
   "nbconvert_exporter": "python",
   "pygments_lexer": "ipython3",
   "version": "3.13.2"
  }
 },
 "nbformat": 4,
 "nbformat_minor": 2
}
