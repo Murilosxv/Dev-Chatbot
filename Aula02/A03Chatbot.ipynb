{
 "cells": [
  {
   "cell_type": "code",
   "execution_count": 20,
   "metadata": {},
   "outputs": [
    {
     "name": "stdout",
     "output_type": "stream",
     "text": [
      "Defaulting to user installation because normal site-packages is not writeable\n",
      "Requirement already satisfied: groq in c:\\users\\dsadm\\appdata\\local\\packages\\pythonsoftwarefoundation.python.3.13_qbz5n2kfra8p0\\localcache\\local-packages\\python313\\site-packages (0.18.0)\n",
      "Requirement already satisfied: anyio<5,>=3.5.0 in c:\\users\\dsadm\\appdata\\local\\packages\\pythonsoftwarefoundation.python.3.13_qbz5n2kfra8p0\\localcache\\local-packages\\python313\\site-packages (from groq) (4.8.0)\n",
      "Requirement already satisfied: distro<2,>=1.7.0 in c:\\users\\dsadm\\appdata\\local\\packages\\pythonsoftwarefoundation.python.3.13_qbz5n2kfra8p0\\localcache\\local-packages\\python313\\site-packages (from groq) (1.9.0)\n",
      "Requirement already satisfied: httpx<1,>=0.23.0 in c:\\users\\dsadm\\appdata\\local\\packages\\pythonsoftwarefoundation.python.3.13_qbz5n2kfra8p0\\localcache\\local-packages\\python313\\site-packages (from groq) (0.28.1)\n",
      "Requirement already satisfied: pydantic<3,>=1.9.0 in c:\\users\\dsadm\\appdata\\local\\packages\\pythonsoftwarefoundation.python.3.13_qbz5n2kfra8p0\\localcache\\local-packages\\python313\\site-packages (from groq) (2.10.6)\n",
      "Requirement already satisfied: sniffio in c:\\users\\dsadm\\appdata\\local\\packages\\pythonsoftwarefoundation.python.3.13_qbz5n2kfra8p0\\localcache\\local-packages\\python313\\site-packages (from groq) (1.3.1)\n",
      "Requirement already satisfied: typing-extensions<5,>=4.10 in c:\\users\\dsadm\\appdata\\local\\packages\\pythonsoftwarefoundation.python.3.13_qbz5n2kfra8p0\\localcache\\local-packages\\python313\\site-packages (from groq) (4.12.2)\n",
      "Requirement already satisfied: idna>=2.8 in c:\\users\\dsadm\\appdata\\local\\packages\\pythonsoftwarefoundation.python.3.13_qbz5n2kfra8p0\\localcache\\local-packages\\python313\\site-packages (from anyio<5,>=3.5.0->groq) (3.10)\n",
      "Requirement already satisfied: certifi in c:\\users\\dsadm\\appdata\\local\\packages\\pythonsoftwarefoundation.python.3.13_qbz5n2kfra8p0\\localcache\\local-packages\\python313\\site-packages (from httpx<1,>=0.23.0->groq) (2025.1.31)\n",
      "Requirement already satisfied: httpcore==1.* in c:\\users\\dsadm\\appdata\\local\\packages\\pythonsoftwarefoundation.python.3.13_qbz5n2kfra8p0\\localcache\\local-packages\\python313\\site-packages (from httpx<1,>=0.23.0->groq) (1.0.7)\n",
      "Requirement already satisfied: h11<0.15,>=0.13 in c:\\users\\dsadm\\appdata\\local\\packages\\pythonsoftwarefoundation.python.3.13_qbz5n2kfra8p0\\localcache\\local-packages\\python313\\site-packages (from httpcore==1.*->httpx<1,>=0.23.0->groq) (0.14.0)\n",
      "Requirement already satisfied: annotated-types>=0.6.0 in c:\\users\\dsadm\\appdata\\local\\packages\\pythonsoftwarefoundation.python.3.13_qbz5n2kfra8p0\\localcache\\local-packages\\python313\\site-packages (from pydantic<3,>=1.9.0->groq) (0.7.0)\n",
      "Requirement already satisfied: pydantic-core==2.27.2 in c:\\users\\dsadm\\appdata\\local\\packages\\pythonsoftwarefoundation.python.3.13_qbz5n2kfra8p0\\localcache\\local-packages\\python313\\site-packages (from pydantic<3,>=1.9.0->groq) (2.27.2)\n"
     ]
    },
    {
     "name": "stderr",
     "output_type": "stream",
     "text": [
      "\n",
      "[notice] A new release of pip is available: 24.3.1 -> 25.0.1\n",
      "[notice] To update, run: C:\\Users\\DSADM\\AppData\\Local\\Microsoft\\WindowsApps\\PythonSoftwareFoundation.Python.3.13_qbz5n2kfra8p0\\python.exe -m pip install --upgrade pip\n"
     ]
    }
   ],
   "source": [
    "# instalaçao da biblioteca Groq\n",
    "!pip install groq"
   ]
  },
  {
   "cell_type": "code",
   "execution_count": 21,
   "metadata": {},
   "outputs": [],
   "source": [
    "from groq import Groq # realiza a importaçao da biblioteca necessaria para rodar a LLM\n",
    "#Inicializa o cliente com a chave da \n",
    "client = Groq(api_key='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')\n",
    "completion = client.chat.completions.create(\n",
    "  model=\"llama3-8b-8192\",\n",
    "  messages=[\n",
    "     {\"role\":\"system\",\"content\":\"Voce é assistente de agricultor\"},\n",
    "     {\"role\":\"user\",\"content\":\"Qual a semente indicada para \\n no solo arenoso em maio\"}\n",
    "\n",
    "  ],  \n",
    "  temperature=0,\n",
    "  max_tokens=1024, #ajusta o token,\n",
    "  top_p=1,\n",
    "  stream = False\n",
    "\n",
    ")"
   ]
  },
  {
   "cell_type": "code",
   "execution_count": 22,
   "metadata": {},
   "outputs": [
    {
     "name": "stdout",
     "output_type": "stream",
     "text": [
      "Um excelente questionário!\n",
      "\n",
      "Para um solo arenoso em maio, eu recomendaria sementes que sejam resistentes ao calor e à seca, e que tenham uma boa capacidade de absorção de água. Aqui estão algumas opções de sementes que devem funcionar bem:\n",
      "\n",
      "1. Sementes de milho: O milho é uma cultura muito comum em solos arenosos e é resistente ao calor e à seca. Ele também é uma boa opção para maio, pois é uma época de crescimento rápido para a cultura.\n",
      "2. Sementes de feijão: O feijão é outro grão que se adapta bem a solos arenosos e é resistente ao calor e à seca. Ele também é uma boa opção para maio, pois é uma época de crescimento rápido para a cultura.\n",
      "3. Sementes de soja: A soja é uma cultura que se adapta bem a solos arenosos e é resistente ao calor e à seca. Ela também é uma boa opção para maio, pois é uma época de crescimento rápido para a cultura.\n",
      "4. Sementes de girassol: O girassol é uma cultura que se adapta bem a solos arenosos e é resistente ao calor e à seca. Ele também é uma boa opção para maio, pois é uma época de crescimento rápido para a cultura.\n",
      "5. Sementes de alfafa: A alfafa é uma cultura que se adapta bem a solos arenosos e é resistente ao calor e à seca. Ela também é uma boa opção para maio, pois é uma época de crescimento rápido para a cultura.\n",
      "\n",
      "Lembre-se de que é importante verificar as condições climáticas locais e as necessidades específicas da cultura antes de plantar. Além disso, é sempre uma boa ideia consultar um especialista em agricultura ou um consultor agrícola para obter orientação mais específica para o seu local.\n"
     ]
    }
   ],
   "source": [
    "# exibe a resposta gerada\n",
    "\n",
    "print(completion.choices[0].message.content)"
   ]
  },
  {
   "cell_type": "code",
   "execution_count": 23,
   "metadata": {},
   "outputs": [],
   "source": [
    "import os # biblioteca do sistema operacional \n",
    "from groq import Groq"
   ]
  },
  {
   "cell_type": "code",
   "execution_count": null,
   "metadata": {},
   "outputs": [],
   "source": [
    "#Define sua chave da API do GROQ\n",
    "#GROQ_API_KEY = os.getenv('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')\n",
    "client = Groq(api_key='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')\n",
    "\n",
    "#Solicita que o usuario digite o prompt\n",
    "while True: \n",
    "\n",
    "    user_prompt=input(\"Digite sua pergunta sobre agricultura: \")\n",
    "    if user_prompt.strip() ==\"15\":\n",
    "        print('Encerrando assistente Agro ! Até mais ! \\n')\n",
    "        break\n",
    "    # Faz a solicitaçao ao modelo\n",
    "    completion = client.chat.completions.create(\n",
    "    model=\"llama3-8b-8192\",\n",
    "    messages=[\n",
    "    {\"role\":\"system\",\"content\":\"Voce é assistente de agricultor\"},\n",
    "    {\"role\":\"user\",\"content\":user_prompt}\n",
    "\n",
    "    ],  \n",
    "    temperature=0,\n",
    "    max_tokens=1024, #ajusta o token,\n",
    "    top_p=1,\n",
    "    stream = False\n",
    "\n",
    "    )\n",
    "# Exibe a resposta \n",
    "    print('\\n Resposta do assistente: \\n')\n",
    "    print(completion.choices[0].message.content + \"\\n\")"
   ]
  },
  {
   "cell_type": "code",
   "execution_count": 26,
   "metadata": {},
   "outputs": [
    {
     "name": "stdout",
     "output_type": "stream",
     "text": [
      "\n",
      " Exibe a resposta\n",
      "Excelente pergunta!\n",
      "\n",
      "O melhor solo para agricultura depende de vários fatores, como o tipo de cultura que você deseja cultivar, a região em que você está localizado e as características do solo em si. No entanto, aqui estão algumas características que um solo ideal para agricultura deve ter:\n",
      "\n",
      "1. Textura: Um solo com textura média a grossa é mais adequado para a agricultura, pois permite que as raízes das plantas cresçam profundamente e absorvam nutrientes facilmente.\n",
      "2. Estrutura: Um solo com boa estrutura, ou seja, com uma boa proporção de partículas finas e grossas, é mais resistente à erosão e permite que as plantas cresçam melhor.\n",
      "3. Acidez: A acidez do solo é importante, pois muitas plantas preferem um pH entre 6,0 e 7,0. No entanto, alguns cultivos, como o arroz, podem tolerar um pH mais alto.\n",
      "4. Nutrientes: O solo deve ter nutrientes essenciais para as plantas, como nitrogênio, fósforo, potássio, cálcio, magnésio e enxofre.\n",
      "5. Permeabilidade: Um solo permeável permite que a água e os nutrientes sejam absorvidos facilmente pelas plantas.\n",
      "\n",
      "Com base nessas características, aqui estão alguns tipos de solos que são considerados ideais para agricultura:\n",
      "\n",
      "1. Solos argilosos: Esses solos têm uma textura grossa e são ricos em nutrientes. Eles são comuns em regiões com clima temperado e são ideais para culturas como trigo, milho e soja.\n",
      "2. Solos arenosos: Esses solos têm uma textura fina e são mais comuns em regiões áridas. Eles são ideais para culturas como arroz, milho e feijão.\n",
      "3. Solos mistos: Esses solos têm uma mistura de partículas finas e grossas e são comuns em regiões com clima temperado. Eles são ideais para culturas como trigo, milho e soja.\n",
      "4. Solos alcalinos: Esses solos têm um pH alto e são comuns em regiões com clima árido. Eles são ideais para culturas como arroz e milho.\n",
      "\n",
      "É importante lembrar que a escolha do solo ideal para agricultura também depende da região em que você está localizado e das culturas que você deseja cultivar. É sempre recomendável realizar um teste de solo para determinar as características do solo em sua área e escolher as culturas mais adequadas.\n",
      "\n"
     ]
    }
   ],
   "source": [
    "# Exibe a resposta\n",
    "print('\\n Exibe a resposta')\n",
    "print(completion.choices[0].message.content + \"\\n\")\n"
   ]
  },
  {
   "cell_type": "code",
   "execution_count": null,
   "metadata": {},
   "outputs": [],
   "source": []
  }
 ],
 "metadata": {
  "kernelspec": {
   "display_name": "Python 3",
   "language": "python",
   "name": "python3"
  },
  "language_info": {
   "codemirror_mode": {
    "name": "ipython",
    "version": 3
   },
   "file_extension": ".py",
   "mimetype": "text/x-python",
   "name": "python",
   "nbconvert_exporter": "python",
   "pygments_lexer": "ipython3",
   "version": "3.13.2"
  }
 },
 "nbformat": 4,
 "nbformat_minor": 2
}
